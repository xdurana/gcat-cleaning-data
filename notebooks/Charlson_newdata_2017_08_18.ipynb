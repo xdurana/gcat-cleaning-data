{
 "cells": [
  {
   "cell_type": "code",
   "execution_count": 9,
   "metadata": {
    "collapsed": false
   },
   "outputs": [
    {
     "name": "stdout",
     "output_type": "stream",
     "text": [
      "['id', 'bmi', 'bmi_who', 'bmi_who_obesity', 'diastolic_blood_pressure', 'heart_rate', 'height', 'systolic_blood_pressure', 'weight', 'whr', 'whr_who', 'whr_who_obesity', 'hair_loss_20', 'hair_loss_20_binary', 'hair_loss_30', 'hair_loss_30_binary', 'hair_loss_40', 'hair_loss_40_binary', 'icd9_code3_011', 'icd9_code3_041', 'icd9_code3_199', 'icd9_code3_218', 'icd9_code3_242', 'icd9_code3_244', 'icd9_code3_245', 'icd9_code3_246', 'icd9_code3_250', 'icd9_code3_252', 'icd9_code3_256', 'icd9_code3_268', 'icd9_code3_269', 'icd9_code3_272', 'icd9_code3_274', 'icd9_code3_275', 'icd9_code3_276', 'icd9_code3_278', 'icd9_code3_280', 'icd9_code3_285', 'icd9_code3_295', 'icd9_code3_296', 'icd9_code3_300', 'icd9_code3_307', 'icd9_code3_308', 'icd9_code3_311', 'icd9_code3_314', 'icd9_code3_322', 'icd9_code3_323', 'icd9_code3_333', 'icd9_code3_338', 'icd9_code3_339', 'icd9_code3_345', 'icd9_code3_346', 'icd9_code3_360', 'icd9_code3_365', 'icd9_code3_372', 'icd9_code3_401', 'icd9_code3_410', 'icd9_code3_411', 'icd9_code3_414', 'icd9_code3_420', 'icd9_code3_427', 'icd9_code3_454', 'icd9_code3_455', 'icd9_code3_459', 'icd9_code3_460', 'icd9_code3_466', 'icd9_code3_471', 'icd9_code3_472', 'icd9_code3_473', 'icd9_code3_480', 'icd9_code3_493', 'icd9_code3_496', 'icd9_code3_530', 'icd9_code3_535', 'icd9_code3_536', 'icd9_code3_540', 'icd9_code3_550', 'icd9_code3_553', 'icd9_code3_555', 'icd9_code3_558', 'icd9_code3_564', 'icd9_code3_569', 'icd9_code3_571', 'icd9_code3_577', 'icd9_code3_579', 'icd9_code3_592', 'icd9_code3_599', 'icd9_code3_600', 'icd9_code3_601', 'icd9_code3_602', 'icd9_code3_617', 'icd9_code3_625', 'icd9_code3_627', 'icd9_code3_650', 'icd9_code3_690', 'icd9_code3_691', 'icd9_code3_692', 'icd9_code3_695', 'icd9_code3_696', 'icd9_code3_697', 'icd9_code3_701', 'icd9_code3_704', 'icd9_code3_709', 'icd9_code3_710', 'icd9_code3_714', 'icd9_code3_715', 'icd9_code3_718', 'icd9_code3_719', 'icd9_code3_720', 'icd9_code3_722', 'icd9_code3_723', 'icd9_code3_724', 'icd9_code3_726', 'icd9_code3_728', 'icd9_code3_729', 'icd9_code3_733', 'icd9_code3_737', 'icd9_code3_780', 'icd9_code3_785', 'icd9_code3_786', 'icd9_code3_788', 'icd9_code3_790', 'icd9_code3_799', 'icd9_code3_807', 'icd9_code3_995', 'icd9_code3_V83', 'civil_status', 'education_college', 'gender', 'lives_alone', 'lives_in_couple', 'alcohol_actual', 'bedtime', 'coffee_intake', 'morningness', 'nap', 'nap_duration', 'predimed', 'predimed_high_adherence', 'predimed_score', 'sleep_duration', 'tea_intake', 'self_perceived_health', 'self_perceived_health_binary', 'hemoglobin_eAG', 'fasting_time_range', 'last_intake_range', 'atc_A02', 'atc_A03', 'atc_A04', 'atc_A05', 'atc_A06', 'atc_A07', 'atc_A08', 'atc_A09', 'atc_A10', 'atc_A11', 'atc_A12', 'atc_A16', 'atc_B01', 'atc_B02', 'atc_B03', 'atc_B05', 'atc_C01', 'atc_C02', 'atc_C03', 'atc_C04', 'atc_C05', 'atc_C07', 'atc_C08', 'atc_C09', 'atc_C10', 'atc_D01', 'atc_D03', 'atc_D04', 'atc_D05', 'atc_D06', 'atc_D07', 'atc_D08', 'atc_D10', 'atc_D11', 'atc_G01', 'atc_G02', 'atc_G03', 'atc_G04', 'atc_H01', 'atc_H02', 'atc_H03', 'atc_H05', 'atc_J01', 'atc_J02', 'atc_J04', 'atc_J05', 'atc_J07', 'atc_L01', 'atc_L02', 'atc_L04', 'atc_M01', 'atc_M02', 'atc_M03', 'atc_M04', 'atc_M05', 'atc_M09', 'atc_N01', 'atc_N02', 'atc_N03', 'atc_N04', 'atc_N05', 'atc_N06', 'atc_N07', 'atc_P01', 'atc_R01', 'atc_R02', 'atc_R03', 'atc_R05', 'atc_R06', 'atc_S01', 'atc_V01', 'atc_V03', 'atc_V04', 'atc_V07', 'age_at_fist_birth', 'offspring', 'offspring_binary', 'age', 'birth_weight_binary', 'eye_color_dark', 'freckling_binary', 'hair_color_black', 'hair_color_blond', 'hair_color_brown', 'hair_color_light', 'hair_color_red', 'phototype_score', 'skin_color', 'skin_sensitivity_to_sun_binary_1_5', 'skin_sensitivity_to_sun_binary_12_45', 'skin_sensitivity_to_sun_binary_12_5', 'anxiety', 'calmness', 'happiness', 'incapacity', 'sadness', 'upset', 'smoking_cesation_time', 'smoking_fagerstrom_score', 'smoking_habit', 'smoking_intensity', 'smoking_packs', 'smoking_packs_exsmoker', 'smoking_packs_year', 'smoking_packs_year_exsmoker', 'smoking_packs_year_smoker', 'smoking_status', 'smoking_time', 'smoking_time_exsmoker', 'smoking_time_smoker', 'days_follow_up', 'age_at_menarche', 'age_at_menopause', 'hrt_use', 'oc_use', 'reproductive_life_span', 'working_last_year', 'working_shift', 'working_status', 'working_status_active']\n"
     ]
    }
   ],
   "source": [
    "import csv\n",
    "import pandas as pd\n",
    "\n",
    "df_all=pd.read_csv('C:/data_2017_08_07.csv')\n",
    "cols = list(df_all.columns.values)\n",
    "print(cols)"
   ]
  },
  {
   "cell_type": "code",
   "execution_count": 10,
   "metadata": {
    "collapsed": false
   },
   "outputs": [],
   "source": [
    "for i in range(0,df_all.shape[0]):\n",
    "    charlson=0\n",
    "    # Myocardial infarction \n",
    "    if (df_all.loc[i,'icd9_code3_410']==1):\n",
    "        charlson=charlson+1\n",
    "    #Peripheral vascular disease\n",
    "    if (df_all.loc[i,'icd9_code3_785']==1):\n",
    "        charlson=charlson+1\n",
    "    #Chronic pulmonary disease\n",
    "    if (df_all.loc[i,'icd9_code3_493']==1 or df_all.loc[i,'icd9_code3_496']==1):\n",
    "        charlson=charlson+1\n",
    "    #Rheumatic disease\n",
    "    if (df_all.loc[i,'icd9_code3_710']==1 or df_all.loc[i,'icd9_code3_714']==1):\n",
    "        charlson=charlson+1\n",
    "    #Mild liver disease\n",
    "    if (df_all.loc[i,'icd9_code3_571']==1):\n",
    "        charlson=charlson+1\n",
    "    #Diabetes\n",
    "    if (df_all.loc[i,'icd9_code3_250']==1):\n",
    "        charlson=charlson+1\n",
    "    #Metastatic solid tumor\n",
    "    if (df_all.loc[i,'icd9_code3_199']==6):\n",
    "        charlson=charlson+1\n",
    "    df_all.loc[i,'charlson']=charlson\n",
    "df_all.to_csv(\"C:/Users/laia.subirats/Documents/Charlson.csv\")"
   ]
  },
  {
   "cell_type": "code",
   "execution_count": null,
   "metadata": {
    "collapsed": true
   },
   "outputs": [],
   "source": []
  }
 ],
 "metadata": {
  "anaconda-cloud": {},
  "kernelspec": {
   "display_name": "Python 3",
   "language": "python",
   "name": "python3"
  },
  "language_info": {
   "codemirror_mode": {
    "name": "ipython",
    "version": 3
   },
   "file_extension": ".py",
   "mimetype": "text/x-python",
   "name": "python",
   "nbconvert_exporter": "python",
   "pygments_lexer": "ipython3",
   "version": "3.5.2"
  }
 },
 "nbformat": 4,
 "nbformat_minor": 2
}
