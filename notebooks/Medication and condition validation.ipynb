{
 "cells": [
  {
   "cell_type": "code",
   "execution_count": 159,
   "metadata": {
    "collapsed": true
   },
   "outputs": [],
   "source": [
    "import matplotlib.pyplot as plt\n",
    "import pandas as pd\n",
    "import numpy as np\n",
    "import re\n",
    "import subprocess\n",
    "\n",
    "%matplotlib inline"
   ]
  },
  {
   "cell_type": "code",
   "execution_count": 150,
   "metadata": {
    "collapsed": false
   },
   "outputs": [],
   "source": [
    "medication = pd.read_csv('output/medications/data.csv')\n",
    "medication['CONDITION'] = medication.variable.apply(lambda x: re.sub(r\"(\\d)\", \"\", x))\n",
    "medication = medication[['CODI_ATC', 'NOMBRE', 'CONDITION']]\n",
    "medication['id'] = medication.CODI_ATC.str.extract('(...)')"
   ]
  },
  {
   "cell_type": "code",
   "execution_count": 151,
   "metadata": {
    "collapsed": false
   },
   "outputs": [],
   "source": [
    "atc = pd.read_csv('data/ATC.csv')\n",
    "all = pd.merge(medication, atc, on=['id'])\n",
    "all = all[all.CONDITION != 'ENFERMEDADES_E']\n",
    "all = all[all.CONDITION != 'ANTICONCEPTIVO']\n",
    "all['COUNT'] = 1"
   ]
  },
  {
   "cell_type": "code",
   "execution_count": 155,
   "metadata": {
    "collapsed": false
   },
   "outputs": [],
   "source": [
    "gr = all.groupby(['CODI_ATC', 'NOMBRE', 'CONDITION', 'id', 'text', 'parent'])\n",
    "ag = gr.agg('count').reset_index()\n",
    "ag = ag.sort_values(['CONDITION', 'COUNT'], ascending=True)\n",
    "tb = ag[['CODI_ATC', 'NOMBRE', 'CONDITION', 'text', 'COUNT']]\n",
    "tb.columns = ['ATC_CODE', 'DRUG NAME', 'REPORTED CONDITION', 'CONDITION DRUG TREATS', 'COUNTS']"
   ]
  },
  {
   "cell_type": "code",
   "execution_count": 158,
   "metadata": {
    "collapsed": false
   },
   "outputs": [],
   "source": [
    "tb.to_csv('../output/conditions.csv', index=False)"
   ]
  },
  {
   "cell_type": "code",
   "execution_count": 161,
   "metadata": {
    "collapsed": false
   },
   "outputs": [
    {
     "data": {
      "text/plain": [
       "1"
      ]
     },
     "execution_count": 161,
     "metadata": {},
     "output_type": "execute_result"
    }
   ],
   "source": [
    "template = r'''\\documentclass{{standalone}}\n",
    "\\usepackage{{booktabs}}\n",
    "\\begin{{document}}\n",
    "{}\n",
    "\\end{{document}}\n",
    "'''\n",
    "\n",
    "filename = 'figures/out.tex'\n",
    "pdffile = 'figures/out.pdf'\n",
    "outname = 'figures/out.png'\n",
    "\n",
    "with open(filename, 'wb') as f:\n",
    "    f.write(bytes(template.format(df.to_latex(index=False)),'UTF-8'))\n",
    "\n",
    "subprocess.call(['pdflatex', filename])\n",
    "subprocess.call(['convert', '-density', '300', pdffile, '-quality', '90', outname])"
   ]
  }
 ],
 "metadata": {
  "kernelspec": {
   "display_name": "Python 3",
   "language": "python",
   "name": "python3"
  },
  "language_info": {
   "codemirror_mode": {
    "name": "ipython",
    "version": 3
   },
   "file_extension": ".py",
   "mimetype": "text/x-python",
   "name": "python",
   "nbconvert_exporter": "python",
   "pygments_lexer": "ipython3",
   "version": "3.5.0"
  }
 },
 "nbformat": 4,
 "nbformat_minor": 0
}
