{
 "cells": [
  {
   "cell_type": "markdown",
   "metadata": {},
   "source": [
    "# Drugs and medications correlation matrix"
   ]
  },
  {
   "cell_type": "code",
   "execution_count": 275,
   "metadata": {
    "collapsed": true
   },
   "outputs": [],
   "source": [
    "import difflib\n",
    "import re\n",
    "import numpy as np\n",
    "import pandas as pd\n",
    "import matplotlib as mpl\n",
    "import matplotlib.pyplot as plt\n",
    "from matplotlib.pylab import *\n",
    "import seaborn as sns\n",
    "\n",
    "%matplotlib inline"
   ]
  },
  {
   "cell_type": "markdown",
   "metadata": {},
   "source": [
    "## Relative Risk\n",
    "\n",
    "The Relative Risk (RR) of observing a pair of diseases $i$ and $j$ affecting the same patient is given by\n",
    "\n",
    "$$RR_ij = \\frac{C_ijN}{P_iP_j}$$ where $C_ij$ is the number of patients affected by both diseases, $N$ is the total number of patients in the population and $P_i$ and $P_j$ are the prevalences of diseases $i$ and $j$."
   ]
  },
  {
   "cell_type": "code",
   "execution_count": 276,
   "metadata": {
    "collapsed": false
   },
   "outputs": [],
   "source": [
    "from __future__ import division\n",
    "\n",
    "def RR(c, N, i, j):\n",
    "    if (c[i,i]*c[j,j] == 0):\n",
    "        return(0)\n",
    "    if (i == j):\n",
    "        return 0\n",
    "    return (c[i,j]*N)/(c[i,i]*c[j,j])"
   ]
  },
  {
   "cell_type": "markdown",
   "metadata": {},
   "source": [
    "## Conditions database"
   ]
  },
  {
   "cell_type": "code",
   "execution_count": 280,
   "metadata": {
    "collapsed": false
   },
   "outputs": [
    {
     "data": {
      "text/html": [
       "<div>\n",
       "<table border=\"1\" class=\"dataframe\">\n",
       "  <thead>\n",
       "    <tr style=\"text-align: right;\">\n",
       "      <th></th>\n",
       "      <th>entity_id</th>\n",
       "      <th>CANCER</th>\n",
       "      <th>DIABETES</th>\n",
       "      <th>HTA</th>\n",
       "      <th>HIPERCOLESTEROLEMIA</th>\n",
       "      <th>ICTUS</th>\n",
       "      <th>INFARTO</th>\n",
       "      <th>ANGINA</th>\n",
       "      <th>HELICOBACTER</th>\n",
       "      <th>CROHN</th>\n",
       "      <th>...</th>\n",
       "      <th>ESQUIZOFRENIA</th>\n",
       "      <th>ALZHEIMER</th>\n",
       "      <th>PARKINSON</th>\n",
       "      <th>GENETICA_HEREDITARIA</th>\n",
       "      <th>OTRAS</th>\n",
       "      <th>NINGUNA</th>\n",
       "      <th>NS_NC</th>\n",
       "      <th>DIABETES_T1DM</th>\n",
       "      <th>DIABETES_T2DM</th>\n",
       "      <th>DIABETES_GESTACIONAL</th>\n",
       "    </tr>\n",
       "  </thead>\n",
       "  <tbody>\n",
       "    <tr>\n",
       "      <th>0</th>\n",
       "      <td>=E00251439708521</td>\n",
       "      <td>0</td>\n",
       "      <td>0</td>\n",
       "      <td>1</td>\n",
       "      <td>0</td>\n",
       "      <td>0</td>\n",
       "      <td>0</td>\n",
       "      <td>0</td>\n",
       "      <td>0</td>\n",
       "      <td>0</td>\n",
       "      <td>...</td>\n",
       "      <td>0</td>\n",
       "      <td>0</td>\n",
       "      <td>0</td>\n",
       "      <td>0</td>\n",
       "      <td>1</td>\n",
       "      <td>0</td>\n",
       "      <td>0</td>\n",
       "      <td>0</td>\n",
       "      <td>0</td>\n",
       "      <td>0</td>\n",
       "    </tr>\n",
       "    <tr>\n",
       "      <th>1</th>\n",
       "      <td>=E00251432416521</td>\n",
       "      <td>0</td>\n",
       "      <td>0</td>\n",
       "      <td>0</td>\n",
       "      <td>0</td>\n",
       "      <td>0</td>\n",
       "      <td>0</td>\n",
       "      <td>0</td>\n",
       "      <td>0</td>\n",
       "      <td>0</td>\n",
       "      <td>...</td>\n",
       "      <td>0</td>\n",
       "      <td>0</td>\n",
       "      <td>0</td>\n",
       "      <td>0</td>\n",
       "      <td>0</td>\n",
       "      <td>1</td>\n",
       "      <td>0</td>\n",
       "      <td>0</td>\n",
       "      <td>0</td>\n",
       "      <td>0</td>\n",
       "    </tr>\n",
       "    <tr>\n",
       "      <th>2</th>\n",
       "      <td>=E00251429328121</td>\n",
       "      <td>0</td>\n",
       "      <td>0</td>\n",
       "      <td>0</td>\n",
       "      <td>1</td>\n",
       "      <td>0</td>\n",
       "      <td>0</td>\n",
       "      <td>0</td>\n",
       "      <td>0</td>\n",
       "      <td>0</td>\n",
       "      <td>...</td>\n",
       "      <td>0</td>\n",
       "      <td>0</td>\n",
       "      <td>0</td>\n",
       "      <td>0</td>\n",
       "      <td>0</td>\n",
       "      <td>0</td>\n",
       "      <td>0</td>\n",
       "      <td>0</td>\n",
       "      <td>0</td>\n",
       "      <td>0</td>\n",
       "    </tr>\n",
       "    <tr>\n",
       "      <th>3</th>\n",
       "      <td>=E00251513157121</td>\n",
       "      <td>0</td>\n",
       "      <td>0</td>\n",
       "      <td>0</td>\n",
       "      <td>0</td>\n",
       "      <td>0</td>\n",
       "      <td>0</td>\n",
       "      <td>0</td>\n",
       "      <td>0</td>\n",
       "      <td>0</td>\n",
       "      <td>...</td>\n",
       "      <td>0</td>\n",
       "      <td>0</td>\n",
       "      <td>0</td>\n",
       "      <td>0</td>\n",
       "      <td>0</td>\n",
       "      <td>1</td>\n",
       "      <td>0</td>\n",
       "      <td>0</td>\n",
       "      <td>0</td>\n",
       "      <td>0</td>\n",
       "    </tr>\n",
       "    <tr>\n",
       "      <th>4</th>\n",
       "      <td>=E00251429815021</td>\n",
       "      <td>0</td>\n",
       "      <td>0</td>\n",
       "      <td>0</td>\n",
       "      <td>0</td>\n",
       "      <td>0</td>\n",
       "      <td>0</td>\n",
       "      <td>0</td>\n",
       "      <td>0</td>\n",
       "      <td>0</td>\n",
       "      <td>...</td>\n",
       "      <td>0</td>\n",
       "      <td>0</td>\n",
       "      <td>0</td>\n",
       "      <td>0</td>\n",
       "      <td>0</td>\n",
       "      <td>1</td>\n",
       "      <td>0</td>\n",
       "      <td>0</td>\n",
       "      <td>0</td>\n",
       "      <td>0</td>\n",
       "    </tr>\n",
       "  </tbody>\n",
       "</table>\n",
       "<p>5 rows × 34 columns</p>\n",
       "</div>"
      ],
      "text/plain": [
       "          entity_id  CANCER  DIABETES  HTA  HIPERCOLESTEROLEMIA  ICTUS  \\\n",
       "0  =E00251439708521       0         0    1                    0      0   \n",
       "1  =E00251432416521       0         0    0                    0      0   \n",
       "2  =E00251429328121       0         0    0                    1      0   \n",
       "3  =E00251513157121       0         0    0                    0      0   \n",
       "4  =E00251429815021       0         0    0                    0      0   \n",
       "\n",
       "   INFARTO  ANGINA  HELICOBACTER  CROHN          ...           ESQUIZOFRENIA  \\\n",
       "0        0       0             0      0          ...                       0   \n",
       "1        0       0             0      0          ...                       0   \n",
       "2        0       0             0      0          ...                       0   \n",
       "3        0       0             0      0          ...                       0   \n",
       "4        0       0             0      0          ...                       0   \n",
       "\n",
       "   ALZHEIMER  PARKINSON  GENETICA_HEREDITARIA  OTRAS  NINGUNA  NS_NC  \\\n",
       "0          0          0                     0      1        0      0   \n",
       "1          0          0                     0      0        1      0   \n",
       "2          0          0                     0      0        0      0   \n",
       "3          0          0                     0      0        1      0   \n",
       "4          0          0                     0      0        1      0   \n",
       "\n",
       "   DIABETES_T1DM  DIABETES_T2DM  DIABETES_GESTACIONAL  \n",
       "0              0              0                     0  \n",
       "1              0              0                     0  \n",
       "2              0              0                     0  \n",
       "3              0              0                     0  \n",
       "4              0              0                     0  \n",
       "\n",
       "[5 rows x 34 columns]"
      ]
     },
     "execution_count": 280,
     "metadata": {},
     "output_type": "execute_result"
    }
   ],
   "source": [
    "ds = pd.read_csv('../output/conditions/data.csv', low_memory=False)\n",
    "ds_drop = ds.dropna().copy()\n",
    "ds_drop.rename(columns=lambda x: x.replace('ENFERMEDADES_', ''), inplace=True)\n",
    "conditions = ds_drop\n",
    "conditions.head()"
   ]
  },
  {
   "cell_type": "markdown",
   "metadata": {},
   "source": [
    "## Medication database"
   ]
  },
  {
   "cell_type": "code",
   "execution_count": 278,
   "metadata": {
    "collapsed": false
   },
   "outputs": [
    {
     "data": {
      "text/html": [
       "<div>\n",
       "<table border=\"1\" class=\"dataframe\">\n",
       "  <thead>\n",
       "    <tr style=\"text-align: right;\">\n",
       "      <th></th>\n",
       "      <th>entity_id</th>\n",
       "      <th>A02</th>\n",
       "      <th>A03</th>\n",
       "      <th>A04</th>\n",
       "      <th>A05</th>\n",
       "      <th>A06</th>\n",
       "      <th>A07</th>\n",
       "      <th>A08</th>\n",
       "      <th>A09</th>\n",
       "      <th>A10</th>\n",
       "      <th>...</th>\n",
       "      <th>R01</th>\n",
       "      <th>R02</th>\n",
       "      <th>R03</th>\n",
       "      <th>R05</th>\n",
       "      <th>R06</th>\n",
       "      <th>S01</th>\n",
       "      <th>V01</th>\n",
       "      <th>V03</th>\n",
       "      <th>V04</th>\n",
       "      <th>V07</th>\n",
       "    </tr>\n",
       "  </thead>\n",
       "  <tbody>\n",
       "    <tr>\n",
       "      <th>0</th>\n",
       "      <td>=E00251413396521</td>\n",
       "      <td>0</td>\n",
       "      <td>0</td>\n",
       "      <td>0</td>\n",
       "      <td>0</td>\n",
       "      <td>0</td>\n",
       "      <td>0</td>\n",
       "      <td>0</td>\n",
       "      <td>0</td>\n",
       "      <td>0</td>\n",
       "      <td>...</td>\n",
       "      <td>0</td>\n",
       "      <td>0</td>\n",
       "      <td>0</td>\n",
       "      <td>0</td>\n",
       "      <td>0</td>\n",
       "      <td>0</td>\n",
       "      <td>0</td>\n",
       "      <td>0</td>\n",
       "      <td>0</td>\n",
       "      <td>0</td>\n",
       "    </tr>\n",
       "    <tr>\n",
       "      <th>1</th>\n",
       "      <td>=E00251413396721</td>\n",
       "      <td>0</td>\n",
       "      <td>0</td>\n",
       "      <td>0</td>\n",
       "      <td>0</td>\n",
       "      <td>0</td>\n",
       "      <td>0</td>\n",
       "      <td>0</td>\n",
       "      <td>0</td>\n",
       "      <td>0</td>\n",
       "      <td>...</td>\n",
       "      <td>0</td>\n",
       "      <td>0</td>\n",
       "      <td>0</td>\n",
       "      <td>0</td>\n",
       "      <td>0</td>\n",
       "      <td>0</td>\n",
       "      <td>0</td>\n",
       "      <td>0</td>\n",
       "      <td>0</td>\n",
       "      <td>0</td>\n",
       "    </tr>\n",
       "    <tr>\n",
       "      <th>2</th>\n",
       "      <td>=E00251413396921</td>\n",
       "      <td>0</td>\n",
       "      <td>0</td>\n",
       "      <td>0</td>\n",
       "      <td>0</td>\n",
       "      <td>0</td>\n",
       "      <td>0</td>\n",
       "      <td>0</td>\n",
       "      <td>0</td>\n",
       "      <td>0</td>\n",
       "      <td>...</td>\n",
       "      <td>0</td>\n",
       "      <td>0</td>\n",
       "      <td>0</td>\n",
       "      <td>0</td>\n",
       "      <td>0</td>\n",
       "      <td>0</td>\n",
       "      <td>0</td>\n",
       "      <td>0</td>\n",
       "      <td>0</td>\n",
       "      <td>0</td>\n",
       "    </tr>\n",
       "    <tr>\n",
       "      <th>3</th>\n",
       "      <td>=E00251413398721</td>\n",
       "      <td>0</td>\n",
       "      <td>0</td>\n",
       "      <td>0</td>\n",
       "      <td>0</td>\n",
       "      <td>0</td>\n",
       "      <td>0</td>\n",
       "      <td>0</td>\n",
       "      <td>0</td>\n",
       "      <td>0</td>\n",
       "      <td>...</td>\n",
       "      <td>0</td>\n",
       "      <td>0</td>\n",
       "      <td>0</td>\n",
       "      <td>0</td>\n",
       "      <td>1</td>\n",
       "      <td>0</td>\n",
       "      <td>0</td>\n",
       "      <td>0</td>\n",
       "      <td>0</td>\n",
       "      <td>0</td>\n",
       "    </tr>\n",
       "    <tr>\n",
       "      <th>4</th>\n",
       "      <td>=E00251413471721</td>\n",
       "      <td>0</td>\n",
       "      <td>0</td>\n",
       "      <td>0</td>\n",
       "      <td>0</td>\n",
       "      <td>0</td>\n",
       "      <td>0</td>\n",
       "      <td>0</td>\n",
       "      <td>0</td>\n",
       "      <td>0</td>\n",
       "      <td>...</td>\n",
       "      <td>0</td>\n",
       "      <td>0</td>\n",
       "      <td>0</td>\n",
       "      <td>0</td>\n",
       "      <td>0</td>\n",
       "      <td>0</td>\n",
       "      <td>0</td>\n",
       "      <td>0</td>\n",
       "      <td>0</td>\n",
       "      <td>0</td>\n",
       "    </tr>\n",
       "  </tbody>\n",
       "</table>\n",
       "<p>5 rows × 75 columns</p>\n",
       "</div>"
      ],
      "text/plain": [
       "          entity_id  A02  A03  A04  A05  A06  A07  A08  A09  A10 ...   R01  \\\n",
       "0  =E00251413396521    0    0    0    0    0    0    0    0    0 ...     0   \n",
       "1  =E00251413396721    0    0    0    0    0    0    0    0    0 ...     0   \n",
       "2  =E00251413396921    0    0    0    0    0    0    0    0    0 ...     0   \n",
       "3  =E00251413398721    0    0    0    0    0    0    0    0    0 ...     0   \n",
       "4  =E00251413471721    0    0    0    0    0    0    0    0    0 ...     0   \n",
       "\n",
       "   R02  R03  R05  R06  S01  V01  V03  V04  V07  \n",
       "0    0    0    0    0    0    0    0    0    0  \n",
       "1    0    0    0    0    0    0    0    0    0  \n",
       "2    0    0    0    0    0    0    0    0    0  \n",
       "3    0    0    0    1    0    0    0    0    0  \n",
       "4    0    0    0    0    0    0    0    0    0  \n",
       "\n",
       "[5 rows x 75 columns]"
      ]
     },
     "execution_count": 278,
     "metadata": {},
     "output_type": "execute_result"
    }
   ],
   "source": [
    "ds = pd.read_csv('../output/medications/data.csv', low_memory=False)\n",
    "ds['ATC_CODE_3'] = ds['ATC_CODE'].str[0:3]\n",
    "ds_drop = ds.drop('entity_id', 1).dropna()\n",
    "\n",
    "ds = ds.drop('CONDITION', 1)\n",
    "ds = ds.drop('DRUG_NAME', 1)\n",
    "ds = ds.drop('ATC_CODE', 1)\n",
    "\n",
    "ds_drop = ds.drop_duplicates().copy()\n",
    "ds_drop['COUNT'] = 1\n",
    "ds_drop = pd.pivot_table(ds_drop, index='entity_id', columns='ATC_CODE_3', values='COUNT', aggfunc=np.sum)\n",
    "ds_drop = ds_drop.fillna(0)\n",
    "\n",
    "pd.DataFrame(ds_drop).to_csv('../output/medications/atc_code3.csv')\n",
    "medications = pd.read_csv('../output/medications/atc_code3.csv', low_memory=False)\n",
    "medications.head()"
   ]
  },
  {
   "cell_type": "code",
   "execution_count": 281,
   "metadata": {
    "collapsed": false
   },
   "outputs": [],
   "source": [
    "phenotypes = pd.merge(medications, conditions, on='entity_id')\n",
    "phenotypes = phenotypes.drop('entity_id', 1)"
   ]
  },
  {
   "cell_type": "markdown",
   "metadata": {},
   "source": [
    "## Calculate comorbidity frequency"
   ]
  },
  {
   "cell_type": "code",
   "execution_count": 282,
   "metadata": {
    "collapsed": false
   },
   "outputs": [],
   "source": [
    "phenotypes_matrix = phenotypes.as_matrix().astype(int)\n",
    "coocurrences = phenotypes_matrix.T.dot(phenotypes_matrix)"
   ]
  },
  {
   "cell_type": "markdown",
   "metadata": {},
   "source": [
    "## Calculate comorbidity relative risk"
   ]
  },
  {
   "cell_type": "code",
   "execution_count": 306,
   "metadata": {
    "collapsed": false
   },
   "outputs": [],
   "source": [
    "N = phenotypes.shape[0]\n",
    "risk = coocurrences.copy().astype(float)\n",
    "\n",
    "for i in range(0, coocurrences.shape[0], 1):\n",
    "    for j in range(0, coocurrences.shape[1], 1):\n",
    "        risk[i,j] = RR(coocurrences, N, i, j)\n",
    "        \n",
    "risk = pd.DataFrame(risk, columns=phenotypes.columns, index=phenotypes.columns)\n",
    "risk.to_csv('../output/relative-risk/drugs and conditions.csv')"
   ]
  },
  {
   "cell_type": "markdown",
   "metadata": {},
   "source": [
    "## Medications and drug matrices"
   ]
  },
  {
   "cell_type": "code",
   "execution_count": 307,
   "metadata": {
    "collapsed": false
   },
   "outputs": [
    {
     "data": {
      "text/plain": [
       "Index(['A02', 'A03', 'A04', 'A05', 'A06', 'A07', 'A08', 'A09', 'A10', 'A11',\n",
       "       'A12', 'A16', 'B01', 'B02', 'B03', 'B05', 'C01', 'C02', 'C03', 'C04',\n",
       "       'C05', 'C07', 'C08', 'C09', 'C10', 'D01', 'D03', 'D04', 'D05', 'D06',\n",
       "       'D07', 'D08', 'D10', 'D11', 'G01', 'G02', 'G03', 'G04', 'H01', 'H02',\n",
       "       'H03', 'H05', 'J01', 'J02', 'J04', 'J05', 'J07', 'L01', 'L02', 'L04',\n",
       "       'M01', 'M02', 'M03', 'M04', 'M05', 'M09', 'N01', 'N02', 'N03', 'N04',\n",
       "       'N05', 'N06', 'N07', 'P01', 'R01', 'R02', 'R03', 'R05', 'R06', 'S01',\n",
       "       'V01', 'V03', 'V04', 'V07'],\n",
       "      dtype='object')"
      ]
     },
     "execution_count": 307,
     "metadata": {},
     "output_type": "execute_result"
    }
   ],
   "source": [
    "medication_matrix_columns = medications.columns.drop('entity_id')\n",
    "conditions_matrix_columns = conditions.columns.drop('entity_id')\n",
    "\n",
    "risk = risk.loc[medication_matrix_columns][conditions_matrix_columns]\n",
    "risk.index"
   ]
  },
  {
   "cell_type": "code",
   "execution_count": 308,
   "metadata": {
    "collapsed": false
   },
   "outputs": [
    {
     "data": {
      "text/html": [
       "<div>\n",
       "<table border=\"1\" class=\"dataframe\">\n",
       "  <thead>\n",
       "    <tr style=\"text-align: right;\">\n",
       "      <th></th>\n",
       "      <th>id</th>\n",
       "      <th>text</th>\n",
       "      <th>parent</th>\n",
       "    </tr>\n",
       "  </thead>\n",
       "  <tbody>\n",
       "    <tr>\n",
       "      <th>0</th>\n",
       "      <td>A</td>\n",
       "      <td>Alimentary tract and metabolism</td>\n",
       "      <td>NaN</td>\n",
       "    </tr>\n",
       "    <tr>\n",
       "      <th>1</th>\n",
       "      <td>A02</td>\n",
       "      <td>Drugs for acid related disorders</td>\n",
       "      <td>A</td>\n",
       "    </tr>\n",
       "    <tr>\n",
       "      <th>2</th>\n",
       "      <td>A02B</td>\n",
       "      <td>Drugs for treatment of peptic ulcer</td>\n",
       "      <td>A02</td>\n",
       "    </tr>\n",
       "    <tr>\n",
       "      <th>3</th>\n",
       "      <td>A02BC</td>\n",
       "      <td>Proton pump inhibitors</td>\n",
       "      <td>A02B</td>\n",
       "    </tr>\n",
       "    <tr>\n",
       "      <th>4</th>\n",
       "      <td>A02BC01</td>\n",
       "      <td>Omeprazole</td>\n",
       "      <td>A02BC</td>\n",
       "    </tr>\n",
       "  </tbody>\n",
       "</table>\n",
       "</div>"
      ],
      "text/plain": [
       "        id                                 text parent\n",
       "0        A      Alimentary tract and metabolism    NaN\n",
       "1      A02     Drugs for acid related disorders      A\n",
       "2     A02B  Drugs for treatment of peptic ulcer    A02\n",
       "3    A02BC               Proton pump inhibitors   A02B\n",
       "4  A02BC01                           Omeprazole  A02BC"
      ]
     },
     "execution_count": 308,
     "metadata": {},
     "output_type": "execute_result"
    }
   ],
   "source": [
    "atc = pd.read_csv('../data/medications/ATC.csv', low_memory=False)\n",
    "atc.head()"
   ]
  },
  {
   "cell_type": "code",
   "execution_count": 309,
   "metadata": {
    "collapsed": true
   },
   "outputs": [],
   "source": [
    "def filterRR(df, RR):\n",
    "    risk_df = pd.DataFrame(df)\n",
    "    risk_df['condition'] = risk_df.index\n",
    "    risk_df = pd.melt(risk_df, id_vars=['condition'])\n",
    "    risk_df = risk_df[risk_df['value'] > RR].sort_values(by=['value'], ascending=[0])\n",
    "    risk_df_pivot = risk_df.pivot(index='condition', columns='variable')['value']\n",
    "    risk_df_pivot = risk_df_pivot.fillna(0)\n",
    "    return risk_df_pivot"
   ]
  },
  {
   "cell_type": "markdown",
   "metadata": {},
   "source": [
    "## Plot disease relative risk matrix"
   ]
  },
  {
   "cell_type": "code",
   "execution_count": 310,
   "metadata": {
    "collapsed": false
   },
   "outputs": [
    {
     "data": {
      "text/plain": [
       "<module 'matplotlib.pyplot' from '/software/debian-8/general/virtenvs/jupyter/lib/python3.5/site-packages/matplotlib/pyplot.py'>"
      ]
     },
     "execution_count": 310,
     "metadata": {},
     "output_type": "execute_result"
    },
    {
     "data": {
      "image/png": "[encoded data removed]",
      "text/plain": [
       "<matplotlib.figure.Figure at 0x7f09a5ed76d8>"
      ]
     },
     "metadata": {},
     "output_type": "display_data"
    }
   ],
   "source": [
    "df = risk.copy()\n",
    "df.index = atc[atc.id.isin(df.index)].text\n",
    "df = filterRR(df, 10)\n",
    "\n",
    "cg = sns.clustermap(df, linewidths=.5, figsize=(13, 13))\n",
    "plt.setp(cg.ax_heatmap.yaxis.get_majorticklabels(), rotation=0)\n",
    "plt"
   ]
  }
 ],
 "metadata": {
  "kernelspec": {
   "display_name": "Python 3",
   "language": "python",
   "name": "python3"
  },
  "language_info": {
   "codemirror_mode": {
    "name": "ipython",
    "version": 3
   },
   "file_extension": ".py",
   "mimetype": "text/x-python",
   "name": "python",
   "nbconvert_exporter": "python",
   "pygments_lexer": "ipython3",
   "version": "3.5.0"
  }
 },
 "nbformat": 4,
 "nbformat_minor": 0
}
