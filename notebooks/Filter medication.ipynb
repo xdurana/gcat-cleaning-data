{
 "cells": [
  {
   "cell_type": "markdown",
   "metadata": {},
   "source": [
    "![GCAT | Genomes for Life](images/logo-GCAT.png)"
   ]
  },
  {
   "cell_type": "markdown",
   "metadata": {},
   "source": [
    "# Filter medication"
   ]
  },
  {
   "cell_type": "code",
   "execution_count": 1,
   "metadata": {
    "collapsed": true
   },
   "outputs": [],
   "source": [
    "import difflib\n",
    "import re\n",
    "import numpy as np\n",
    "import pandas as pd\n",
    "import matplotlib as mpl\n",
    "import matplotlib.pyplot as plt\n",
    "from matplotlib.pylab import *\n",
    "\n",
    "%matplotlib inline"
   ]
  },
  {
   "cell_type": "markdown",
   "metadata": {},
   "source": [
    "## Load tables\n",
    "\n",
    "- Qüestionari\n",
    "- Participants"
   ]
  },
  {
   "cell_type": "code",
   "execution_count": 2,
   "metadata": {
    "collapsed": false
   },
   "outputs": [],
   "source": [
    "mica = pd.read_csv(\"/home/labs/dnalab/share/lims/R/gcat-cohort/output/export/QUESTIONARI/data.csv\", low_memory=False)\n",
    "participants = pd.read_csv(\"/home/labs/dnalab/share/lims/R/gcat-cohort/output/export/Participants/data.csv\")\n",
    "\n",
    "all = participants\n",
    "all = pd.merge(all, mica, on=['entity_id'])"
   ]
  },
  {
   "cell_type": "code",
   "execution_count": 3,
   "metadata": {
    "collapsed": false
   },
   "outputs": [],
   "source": [
    "coded = list(all.columns[all.columns.str.contains('_MEDICACION')])\n",
    "columns = coded.copy()\n",
    "columns.append('entity_id')"
   ]
  },
  {
   "cell_type": "markdown",
   "metadata": {},
   "source": [
    "## Coded medication\n",
    "\n",
    "Falten els AINES!!"
   ]
  },
  {
   "cell_type": "code",
   "execution_count": 4,
   "metadata": {
    "collapsed": false
   },
   "outputs": [],
   "source": [
    "others = list(all.columns[all.columns.str.contains('_MEDICACION_.*_TIPO')])\n",
    "columns = others.copy()\n",
    "columns.append('entity_id')\n",
    "\n",
    "ds = all.loc[:, all.columns.isin(columns)]"
   ]
  },
  {
   "cell_type": "code",
   "execution_count": 5,
   "metadata": {
    "collapsed": false
   },
   "outputs": [
    {
     "data": {
      "text/html": [
       "<div>\n",
       "<table border=\"1\" class=\"dataframe\">\n",
       "  <thead>\n",
       "    <tr style=\"text-align: right;\">\n",
       "      <th></th>\n",
       "      <th>entity_id</th>\n",
       "      <th>variable</th>\n",
       "      <th>value</th>\n",
       "    </tr>\n",
       "  </thead>\n",
       "  <tbody>\n",
       "    <tr>\n",
       "      <th>1082</th>\n",
       "      <td>=E00251430309221</td>\n",
       "      <td>CANCER1_MEDICACION_1_TIPO</td>\n",
       "      <td>L02BA;TAMOXIFENO</td>\n",
       "    </tr>\n",
       "    <tr>\n",
       "      <th>1469</th>\n",
       "      <td>=E00251510427221</td>\n",
       "      <td>CANCER1_MEDICACION_1_TIPO</td>\n",
       "      <td>H03AA;EUTIROX</td>\n",
       "    </tr>\n",
       "    <tr>\n",
       "      <th>1919</th>\n",
       "      <td>=E00251510119021</td>\n",
       "      <td>CANCER1_MEDICACION_1_TIPO</td>\n",
       "      <td>L02BG;GALDAR</td>\n",
       "    </tr>\n",
       "    <tr>\n",
       "      <th>1987</th>\n",
       "      <td>=E00251510807521</td>\n",
       "      <td>CANCER1_MEDICACION_1_TIPO</td>\n",
       "      <td>L01DC;MITOMYCIN C</td>\n",
       "    </tr>\n",
       "    <tr>\n",
       "      <th>2042</th>\n",
       "      <td>=E00251430207121</td>\n",
       "      <td>CANCER1_MEDICACION_1_TIPO</td>\n",
       "      <td>L02BA;TAMOXIFENO</td>\n",
       "    </tr>\n",
       "  </tbody>\n",
       "</table>\n",
       "</div>"
      ],
      "text/plain": [
       "             entity_id                   variable              value\n",
       "1082  =E00251430309221  CANCER1_MEDICACION_1_TIPO   L02BA;TAMOXIFENO\n",
       "1469  =E00251510427221  CANCER1_MEDICACION_1_TIPO      H03AA;EUTIROX\n",
       "1919  =E00251510119021  CANCER1_MEDICACION_1_TIPO       L02BG;GALDAR\n",
       "1987  =E00251510807521  CANCER1_MEDICACION_1_TIPO  L01DC;MITOMYCIN C\n",
       "2042  =E00251430207121  CANCER1_MEDICACION_1_TIPO   L02BA;TAMOXIFENO"
      ]
     },
     "execution_count": 5,
     "metadata": {},
     "output_type": "execute_result"
    }
   ],
   "source": [
    "coded_meds = pd.melt(ds, id_vars = ['entity_id'], value_vars = list(others))\n",
    "coded_meds = coded_meds[~coded_meds.value.isnull()]\n",
    "coded_meds.head()"
   ]
  },
  {
   "cell_type": "code",
   "execution_count": 6,
   "metadata": {
    "collapsed": false
   },
   "outputs": [
    {
     "data": {
      "text/html": [
       "<div>\n",
       "<table border=\"1\" class=\"dataframe\">\n",
       "  <thead>\n",
       "    <tr style=\"text-align: right;\">\n",
       "      <th></th>\n",
       "      <th>entity_id</th>\n",
       "      <th>variable</th>\n",
       "      <th>value</th>\n",
       "      <th>CODI_ATC</th>\n",
       "      <th>NOMBRE</th>\n",
       "    </tr>\n",
       "  </thead>\n",
       "  <tbody>\n",
       "    <tr>\n",
       "      <th>214124</th>\n",
       "      <td>=E00251439519321</td>\n",
       "      <td>HTA</td>\n",
       "      <td>C09AA;LISINOPRIL</td>\n",
       "      <td>C09AA</td>\n",
       "      <td>LISINOPRIL</td>\n",
       "    </tr>\n",
       "    <tr>\n",
       "      <th>214126</th>\n",
       "      <td>=E00251513629021</td>\n",
       "      <td>HTA</td>\n",
       "      <td>C09CA;LOSARTAN</td>\n",
       "      <td>C09CA</td>\n",
       "      <td>LOSARTAN</td>\n",
       "    </tr>\n",
       "    <tr>\n",
       "      <th>214129</th>\n",
       "      <td>=E00251514739921</td>\n",
       "      <td>HTA</td>\n",
       "      <td>C09DA;LOSARTAN/HIDROCLOROTIAZIDA</td>\n",
       "      <td>C09DA</td>\n",
       "      <td>LOSARTAN/HIDROCLOROTIAZIDA</td>\n",
       "    </tr>\n",
       "    <tr>\n",
       "      <th>214168</th>\n",
       "      <td>=E00251518701421</td>\n",
       "      <td>HTA</td>\n",
       "      <td>C09AA;ENALAPRIL</td>\n",
       "      <td>C09AA</td>\n",
       "      <td>ENALAPRIL</td>\n",
       "    </tr>\n",
       "    <tr>\n",
       "      <th>214181</th>\n",
       "      <td>=E00251511135221</td>\n",
       "      <td>HTA</td>\n",
       "      <td>C03AA;HIDROSALURETIL</td>\n",
       "      <td>C03AA</td>\n",
       "      <td>HIDROSALURETIL</td>\n",
       "    </tr>\n",
       "  </tbody>\n",
       "</table>\n",
       "</div>"
      ],
      "text/plain": [
       "               entity_id variable                             value CODI_ATC  \\\n",
       "214124  =E00251439519321      HTA                  C09AA;LISINOPRIL    C09AA   \n",
       "214126  =E00251513629021      HTA                    C09CA;LOSARTAN    C09CA   \n",
       "214129  =E00251514739921      HTA  C09DA;LOSARTAN/HIDROCLOROTIAZIDA    C09DA   \n",
       "214168  =E00251518701421      HTA                   C09AA;ENALAPRIL    C09AA   \n",
       "214181  =E00251511135221      HTA              C03AA;HIDROSALURETIL    C03AA   \n",
       "\n",
       "                            NOMBRE  \n",
       "214124                  LISINOPRIL  \n",
       "214126                    LOSARTAN  \n",
       "214129  LOSARTAN/HIDROCLOROTIAZIDA  \n",
       "214168                   ENALAPRIL  \n",
       "214181              HIDROSALURETIL  "
      ]
     },
     "execution_count": 6,
     "metadata": {},
     "output_type": "execute_result"
    }
   ],
   "source": [
    "def to_illness(colname):\n",
    "    colname = re.sub(r\"(_MEDICACION)\", \"\", colname)\n",
    "    colname = re.sub(r\"(^MEDICACION_)\", \"\", colname)\n",
    "    colname = re.sub(r\"(_TIPO)\", \"\", colname)\n",
    "    colname = re.sub(r\"(_OTROS)\", \"\", colname)\n",
    "    colname = re.sub(r\"(_\\d)\", \"\", colname)\n",
    "    colname = re.sub(r\"(SALUD_HOMBRE_)\", \"\", colname)\n",
    "    colname = re.sub(r\"(SALUD_MUJER_)\", \"\", colname)\n",
    "    colname = re.sub(r\"(\\d)\", \"\", colname)\n",
    "    return colname\n",
    "\n",
    "def to_atc(value):\n",
    "    return re.sub(r\"([,;].*$)\", \"\", value)\n",
    "\n",
    "def to_name(value):\n",
    "    return re.sub(r\"(^.*[,;])\", \"\", value)\n",
    "\n",
    "coded_meds.variable = coded_meds.variable.apply(lambda x: to_illness(x))\n",
    "coded_meds['CODI_ATC'] = coded_meds.value.apply(lambda x: to_atc(x))\n",
    "coded_meds['NOMBRE'] = coded_meds.value.apply(lambda x: to_name(x))\n",
    "\n",
    "coded_meds[coded_meds.variable == 'HTA'].head()"
   ]
  },
  {
   "cell_type": "markdown",
   "metadata": {},
   "source": [
    "## Load ATC codes"
   ]
  },
  {
   "cell_type": "code",
   "execution_count": 7,
   "metadata": {
    "collapsed": false,
    "scrolled": false
   },
   "outputs": [
    {
     "data": {
      "text/html": [
       "<div>\n",
       "<table border=\"1\" class=\"dataframe\">\n",
       "  <thead>\n",
       "    <tr style=\"text-align: right;\">\n",
       "      <th></th>\n",
       "      <th>CODI_ATC</th>\n",
       "      <th>NOMBRE</th>\n",
       "    </tr>\n",
       "  </thead>\n",
       "  <tbody>\n",
       "    <tr>\n",
       "      <th>0</th>\n",
       "      <td>B01AC</td>\n",
       "      <td>AAS 100</td>\n",
       "    </tr>\n",
       "    <tr>\n",
       "      <th>1</th>\n",
       "      <td>N02BA</td>\n",
       "      <td>AAS 500</td>\n",
       "    </tr>\n",
       "    <tr>\n",
       "      <th>2</th>\n",
       "      <td>N02BA</td>\n",
       "      <td>AB FE CAMPS</td>\n",
       "    </tr>\n",
       "    <tr>\n",
       "      <th>3</th>\n",
       "      <td>J01EE</td>\n",
       "      <td>ABACTRIM</td>\n",
       "    </tr>\n",
       "    <tr>\n",
       "      <th>4</th>\n",
       "      <td>J01RA</td>\n",
       "      <td>ABACTRIM BALSAMICO</td>\n",
       "    </tr>\n",
       "  </tbody>\n",
       "</table>\n",
       "</div>"
      ],
      "text/plain": [
       "  CODI_ATC              NOMBRE\n",
       "0    B01AC             AAS 100\n",
       "1    N02BA             AAS 500\n",
       "2    N02BA         AB FE CAMPS\n",
       "3    J01EE            ABACTRIM\n",
       "4    J01RA  ABACTRIM BALSAMICO"
      ]
     },
     "execution_count": 7,
     "metadata": {},
     "output_type": "execute_result"
    }
   ],
   "source": [
    "atc = pd.read_csv('../data/Codi_ATC.csv', sep=';')\n",
    "atc.head()"
   ]
  },
  {
   "cell_type": "code",
   "execution_count": 8,
   "metadata": {
    "collapsed": false,
    "scrolled": false
   },
   "outputs": [
    {
     "data": {
      "text/html": [
       "<div>\n",
       "<table border=\"1\" class=\"dataframe\">\n",
       "  <thead>\n",
       "    <tr style=\"text-align: right;\">\n",
       "      <th></th>\n",
       "      <th>CODI_ATC</th>\n",
       "      <th>NOMBRE</th>\n",
       "    </tr>\n",
       "  </thead>\n",
       "  <tbody>\n",
       "    <tr>\n",
       "      <th>0</th>\n",
       "      <td>G03HA01</td>\n",
       "      <td>ANDROCUR</td>\n",
       "    </tr>\n",
       "    <tr>\n",
       "      <th>1</th>\n",
       "      <td>G04BC</td>\n",
       "      <td>ACALKA</td>\n",
       "    </tr>\n",
       "    <tr>\n",
       "      <th>2</th>\n",
       "      <td>G04BC</td>\n",
       "      <td>MICIFRONA</td>\n",
       "    </tr>\n",
       "    <tr>\n",
       "      <th>3</th>\n",
       "      <td>G04BC</td>\n",
       "      <td>ROWANEFRIN Sol. oleosa</td>\n",
       "    </tr>\n",
       "    <tr>\n",
       "      <th>4</th>\n",
       "      <td>G04BC</td>\n",
       "      <td>TUTUKON</td>\n",
       "    </tr>\n",
       "  </tbody>\n",
       "</table>\n",
       "</div>"
      ],
      "text/plain": [
       "  CODI_ATC                  NOMBRE\n",
       "0  G03HA01               ANDROCUR \n",
       "1    G04BC                 ACALKA \n",
       "2    G04BC              MICIFRONA \n",
       "3    G04BC  ROWANEFRIN Sol. oleosa\n",
       "4    G04BC                TUTUKON "
      ]
     },
     "execution_count": 8,
     "metadata": {},
     "output_type": "execute_result"
    }
   ],
   "source": [
    "prostata = pd.read_csv('../data/medications/Medicaments_Prostata.csv', sep=',')\n",
    "prostata.head()"
   ]
  },
  {
   "cell_type": "code",
   "execution_count": 9,
   "metadata": {
    "collapsed": false
   },
   "outputs": [
    {
     "data": {
      "text/html": [
       "<div>\n",
       "<table border=\"1\" class=\"dataframe\">\n",
       "  <thead>\n",
       "    <tr style=\"text-align: right;\">\n",
       "      <th></th>\n",
       "      <th>CODI_ATC</th>\n",
       "      <th>NOMBRE</th>\n",
       "    </tr>\n",
       "  </thead>\n",
       "  <tbody>\n",
       "    <tr>\n",
       "      <th>0</th>\n",
       "      <td>G02BA03</td>\n",
       "      <td>MIRENA</td>\n",
       "    </tr>\n",
       "    <tr>\n",
       "      <th>1</th>\n",
       "      <td>G02BB</td>\n",
       "      <td>CREMA CONTRACEPTIVA LANZAS</td>\n",
       "    </tr>\n",
       "    <tr>\n",
       "      <th>2</th>\n",
       "      <td>G02BB</td>\n",
       "      <td>NACHA ESPUMA</td>\n",
       "    </tr>\n",
       "    <tr>\n",
       "      <th>3</th>\n",
       "      <td>G02BB</td>\n",
       "      <td>NACHAàvulo</td>\n",
       "    </tr>\n",
       "    <tr>\n",
       "      <th>4</th>\n",
       "      <td>G02BB01</td>\n",
       "      <td>CIRCLET</td>\n",
       "    </tr>\n",
       "  </tbody>\n",
       "</table>\n",
       "</div>"
      ],
      "text/plain": [
       "  CODI_ATC                      NOMBRE\n",
       "0  G02BA03                      MIRENA\n",
       "1    G02BB  CREMA CONTRACEPTIVA LANZAS\n",
       "2    G02BB                NACHA ESPUMA\n",
       "3    G02BB                  NACHAàvulo\n",
       "4  G02BB01                     CIRCLET"
      ]
     },
     "execution_count": 9,
     "metadata": {},
     "output_type": "execute_result"
    }
   ],
   "source": [
    "hormones = pd.read_csv('../data/medications/hormones.csv', sep=',')\n",
    "hormones.head()"
   ]
  },
  {
   "cell_type": "markdown",
   "metadata": {},
   "source": [
    "## Select hand-written medication columns"
   ]
  },
  {
   "cell_type": "code",
   "execution_count": 10,
   "metadata": {
    "collapsed": false
   },
   "outputs": [],
   "source": [
    "others = list(all.columns[all.columns.str.contains('_MEDICACION_.*_OTROS')])\n",
    "columns = others.copy()\n",
    "columns.append('entity_id')\n",
    "\n",
    "df = all.loc[:, all.columns.isin(columns)]"
   ]
  },
  {
   "cell_type": "code",
   "execution_count": 11,
   "metadata": {
    "collapsed": false,
    "scrolled": true
   },
   "outputs": [
    {
     "data": {
      "text/html": [
       "<div>\n",
       "<table border=\"1\" class=\"dataframe\">\n",
       "  <thead>\n",
       "    <tr style=\"text-align: right;\">\n",
       "      <th></th>\n",
       "      <th>entity_id</th>\n",
       "      <th>variable</th>\n",
       "      <th>value</th>\n",
       "    </tr>\n",
       "  </thead>\n",
       "  <tbody>\n",
       "    <tr>\n",
       "      <th>214220</th>\n",
       "      <td>=E00251513756521</td>\n",
       "      <td>HTA</td>\n",
       "      <td>ENAPRIL</td>\n",
       "    </tr>\n",
       "    <tr>\n",
       "      <th>214366</th>\n",
       "      <td>=E00251432344121</td>\n",
       "      <td>HTA</td>\n",
       "      <td>Amlodipino 5</td>\n",
       "    </tr>\n",
       "    <tr>\n",
       "      <th>214481</th>\n",
       "      <td>=E00251510885721</td>\n",
       "      <td>HTA</td>\n",
       "      <td>simvastatina</td>\n",
       "    </tr>\n",
       "    <tr>\n",
       "      <th>214551</th>\n",
       "      <td>=E00251511139621</td>\n",
       "      <td>HTA</td>\n",
       "      <td>Amlodipino</td>\n",
       "    </tr>\n",
       "    <tr>\n",
       "      <th>214577</th>\n",
       "      <td>=E00251514740321</td>\n",
       "      <td>HTA</td>\n",
       "      <td>Esídres</td>\n",
       "    </tr>\n",
       "  </tbody>\n",
       "</table>\n",
       "</div>"
      ],
      "text/plain": [
       "               entity_id variable         value\n",
       "214220  =E00251513756521      HTA       ENAPRIL\n",
       "214366  =E00251432344121      HTA  Amlodipino 5\n",
       "214481  =E00251510885721      HTA  simvastatina\n",
       "214551  =E00251511139621      HTA    Amlodipino\n",
       "214577  =E00251514740321      HTA       Esídres"
      ]
     },
     "execution_count": 11,
     "metadata": {},
     "output_type": "execute_result"
    }
   ],
   "source": [
    "a = pd.melt(df, id_vars = ['entity_id'], value_vars = others)\n",
    "a = a[~a.value.isnull()]\n",
    "a.variable = a.variable.apply(lambda x: to_illness(x))\n",
    "a[a.variable == 'HTA'].head()"
   ]
  },
  {
   "cell_type": "code",
   "execution_count": 12,
   "metadata": {
    "collapsed": false
   },
   "outputs": [],
   "source": [
    "import string\n",
    "\n",
    "def clean(val):\n",
    "    val = val.upper()\n",
    "    val = val.translate(str.maketrans({key: None for key in string.punctuation}))\n",
    "    val = re.sub(r\"(\\d+)\", \"\", val)\n",
    "    val = re.sub(r\"( MG$)\", \"\", val)\n",
    "    val = re.sub(r\"( G$)\", \"\", val)\n",
    "    val = val.strip()\n",
    "    return val\n",
    "\n",
    "def compare(x, atc, threshold):\n",
    "    \n",
    "    medications = list(map(lambda x:x.lower(), list(atc.NOMBRE)))\n",
    "    ls = difflib.get_close_matches(x.lower(), medications, 1, threshold)\n",
    "\n",
    "    ls = ''.join(ls)\n",
    "\n",
    "    field_codi_name = \"{}_{}\".format(\"CODI_ATC\", threshold)\n",
    "    field_name_name = \"{}_{}\".format(\"NOMBRE\", threshold)\n",
    "\n",
    "    if ls in medications:\n",
    "        return pd.Series({field_codi_name: atc.loc[medications.index(ls), 'CODI_ATC'],\n",
    "                          field_name_name: atc.loc[medications.index(ls), 'NOMBRE']})\n",
    "    return pd.Series({field_codi_name: None, field_name_name: None})"
   ]
  },
  {
   "cell_type": "markdown",
   "metadata": {},
   "source": [
    "## Explore similarity thresholds"
   ]
  },
  {
   "cell_type": "code",
   "execution_count": 13,
   "metadata": {
    "collapsed": false
   },
   "outputs": [],
   "source": [
    "medications = pd.concat([atc, prostata, hormones], ignore_index=True)\n",
    "b = a.copy()\n",
    "b['clean'] = b['value'].apply(lambda x: clean(x))"
   ]
  },
  {
   "cell_type": "code",
   "execution_count": 14,
   "metadata": {
    "collapsed": false,
    "scrolled": false
   },
   "outputs": [],
   "source": [
    "c = b['clean'].apply(lambda x: compare(x, atc, 1))\n",
    "b = pd.concat([b, c], axis=1)\n",
    "\n",
    "c = b['clean'].apply(lambda x: compare(x, atc, 0.9))\n",
    "b = pd.concat([b, c], axis=1)\n",
    "\n",
    "c = b['clean'].apply(lambda x: compare(x, atc, 0.8))\n",
    "b = pd.concat([b, c], axis=1)\n",
    "\n",
    "c = b['clean'].apply(lambda x: compare(x, atc, 0.7))\n",
    "b = pd.concat([b, c], axis=1)"
   ]
  },
  {
   "cell_type": "markdown",
   "metadata": {},
   "source": [
    "## Merge categorical and hand-written medications"
   ]
  },
  {
   "cell_type": "code",
   "execution_count": 15,
   "metadata": {
    "collapsed": false
   },
   "outputs": [],
   "source": [
    "hand_written_meds = b\n",
    "hand_written_meds = hand_written_meds.rename(columns = {'CODI_ATC_0.9' : 'CODI_ATC'})\n",
    "hand_written_meds = hand_written_meds.rename(columns = {'NOMBRE_0.9' : 'NOMBRE'})\n",
    "hand_written_meds = hand_written_meds[~hand_written_meds.CODI_ATC.isnull()]"
   ]
  },
  {
   "cell_type": "code",
   "execution_count": 16,
   "metadata": {
    "collapsed": false
   },
   "outputs": [
    {
     "name": "stderr",
     "output_type": "stream",
     "text": [
      "/software/debian-8/general/virtenvs/jupyter/lib/python3.5/site-packages/pandas/core/frame.py:1997: UserWarning: Boolean Series key will be reindexed to match DataFrame index.\n",
      "  \"DataFrame index.\", UserWarning)\n"
     ]
    },
    {
     "data": {
      "text/html": [
       "<div>\n",
       "<table border=\"1\" class=\"dataframe\">\n",
       "  <thead>\n",
       "    <tr style=\"text-align: right;\">\n",
       "      <th></th>\n",
       "      <th>variable</th>\n",
       "      <th>value</th>\n",
       "      <th>CODI_ATC</th>\n",
       "      <th>NOMBRE</th>\n",
       "    </tr>\n",
       "  </thead>\n",
       "  <tbody>\n",
       "    <tr>\n",
       "      <th>214802</th>\n",
       "      <td>HTA</td>\n",
       "      <td>COVALS</td>\n",
       "      <td>C09DA</td>\n",
       "      <td>CO VALS</td>\n",
       "    </tr>\n",
       "    <tr>\n",
       "      <th>214895</th>\n",
       "      <td>HTA</td>\n",
       "      <td>Lisonopril</td>\n",
       "      <td>C09AA</td>\n",
       "      <td>LISINOPRIL</td>\n",
       "    </tr>\n",
       "    <tr>\n",
       "      <th>215144</th>\n",
       "      <td>HTA</td>\n",
       "      <td>CO-DIOVAN</td>\n",
       "      <td>C09DA</td>\n",
       "      <td>CO DIOVAN</td>\n",
       "    </tr>\n",
       "    <tr>\n",
       "      <th>215178</th>\n",
       "      <td>HTA</td>\n",
       "      <td>CO-DIOVAN</td>\n",
       "      <td>C09DA</td>\n",
       "      <td>CO DIOVAN</td>\n",
       "    </tr>\n",
       "    <tr>\n",
       "      <th>215236</th>\n",
       "      <td>HTA</td>\n",
       "      <td>ENNALAPRIL</td>\n",
       "      <td>C09AA</td>\n",
       "      <td>ENALAPRIL</td>\n",
       "    </tr>\n",
       "  </tbody>\n",
       "</table>\n",
       "</div>"
      ],
      "text/plain": [
       "       variable       value CODI_ATC      NOMBRE\n",
       "214802      HTA      COVALS    C09DA     CO VALS\n",
       "214895      HTA  Lisonopril    C09AA  LISINOPRIL\n",
       "215144      HTA   CO-DIOVAN    C09DA   CO DIOVAN\n",
       "215178      HTA   CO-DIOVAN    C09DA   CO DIOVAN\n",
       "215236      HTA  ENNALAPRIL    C09AA   ENALAPRIL"
      ]
     },
     "execution_count": 16,
     "metadata": {},
     "output_type": "execute_result"
    }
   ],
   "source": [
    "columns = [\n",
    "    'variable',\n",
    "    'value',\n",
    "    'CODI_ATC',\n",
    "    'NOMBRE'\n",
    "]\n",
    "hand_written_meds[hand_written_meds.variable == 'HTA'][hand_written_meds.CODI_ATC_1.isnull()].head()[columns]"
   ]
  },
  {
   "cell_type": "markdown",
   "metadata": {},
   "source": [
    "## Write all medication"
   ]
  },
  {
   "cell_type": "code",
   "execution_count": 17,
   "metadata": {
    "collapsed": false
   },
   "outputs": [],
   "source": [
    "columns = ['entity_id', 'variable', 'CODI_ATC', 'NOMBRE']\n",
    "merged_meds = pd.concat([coded_meds[columns], hand_written_meds[columns]])\n",
    "merged_meds.columns = ['entity_id', 'CONDITION', 'ATC_CODE', 'DRUG_NAME']\n",
    "merged_meds.to_csv('../output/medications/data.csv', index=False)"
   ]
  },
  {
   "cell_type": "markdown",
   "metadata": {},
   "source": [
    "## Write errors"
   ]
  },
  {
   "cell_type": "code",
   "execution_count": 18,
   "metadata": {
    "collapsed": false
   },
   "outputs": [],
   "source": [
    "errors = b\n",
    "errors.to_csv('../output/medications/errors.csv', index=False)"
   ]
  }
 ],
 "metadata": {
  "kernelspec": {
   "display_name": "Python 3",
   "language": "python",
   "name": "python3"
  },
  "language_info": {
   "codemirror_mode": {
    "name": "ipython",
    "version": 3
   },
   "file_extension": ".py",
   "mimetype": "text/x-python",
   "name": "python",
   "nbconvert_exporter": "python",
   "pygments_lexer": "ipython3",
   "version": "3.5.0"
  }
 },
 "nbformat": 4,
 "nbformat_minor": 0
}
