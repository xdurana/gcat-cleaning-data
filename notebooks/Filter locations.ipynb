{
 "cells": [
  {
   "cell_type": "markdown",
   "metadata": {},
   "source": [
    "![GCAT | Genomes for Life](images/logo-GCAT.png)"
   ]
  },
  {
   "cell_type": "markdown",
   "metadata": {},
   "source": [
    "# Filter locations"
   ]
  },
  {
   "cell_type": "code",
   "execution_count": 1,
   "metadata": {
    "collapsed": true
   },
   "outputs": [],
   "source": [
    "import numpy as np\n",
    "import pandas as pd\n",
    "import matplotlib as mpl\n",
    "import matplotlib.pyplot as plt\n",
    "from matplotlib.pylab import *\n",
    "%matplotlib inline"
   ]
  },
  {
   "cell_type": "markdown",
   "metadata": {},
   "source": [
    "## Load tables\n",
    "\n",
    "- MICA\n",
    "- Participants"
   ]
  },
  {
   "cell_type": "code",
   "execution_count": 2,
   "metadata": {
    "collapsed": false
   },
   "outputs": [],
   "source": [
    "mica = pd.read_csv(\"/home/labs/dnalab/share/lims/R/gcat-cohort/output/export/QUESTIONARI/data.csv\", low_memory=False)\n",
    "participants = pd.read_csv(\"/home/labs/dnalab/share/lims/R/gcat-cohort/output/export/Participants/data.csv\")\n",
    "\n",
    "all = participants\n",
    "all = pd.merge(all, mica, on=['entity_id'])"
   ]
  },
  {
   "cell_type": "markdown",
   "metadata": {},
   "source": [
    "## Load country codes"
   ]
  },
  {
   "cell_type": "code",
   "execution_count": 3,
   "metadata": {
    "collapsed": false
   },
   "outputs": [],
   "source": [
    "countries = pd.read_csv(\"../data/isoalpha2.csv\", low_memory=False,  skiprows=3, sep=';')"
   ]
  },
  {
   "cell_type": "markdown",
   "metadata": {},
   "source": [
    "## Select variables of interest"
   ]
  },
  {
   "cell_type": "code",
   "execution_count": 4,
   "metadata": {
    "collapsed": true
   },
   "outputs": [],
   "source": [
    "columns = [\n",
    "    'entity_id',\n",
    "    'MUNICIPIO_NACIMIENTO',\n",
    "    'MUNICIPIO_RESIDENCIA_OTRO',\n",
    "    'MUNICIPIO_NACIMIENTO_OTRO',\n",
    "    'MUNICIPIO_RESIDENCIA',\n",
    "    'PAIS_NACIMIENTO',\n",
    "    'PAIS_NACIMIENTO_OTRO',\n",
    "]\n",
    "\n",
    "all = all.ix[:,columns]"
   ]
  },
  {
   "cell_type": "markdown",
   "metadata": {},
   "source": [
    "## Province of residence"
   ]
  },
  {
   "cell_type": "code",
   "execution_count": 5,
   "metadata": {
    "collapsed": false
   },
   "outputs": [],
   "source": [
    "filter = all.copy()\n",
    "regional_codes = {'08': 'BARCELONA', '17': 'GIRONA', '25': 'LLEIDA', '43': 'TARRAGONA'}\n",
    "\n",
    "filter['PROVINCIA_RESIDENCIA'] = filter['MUNICIPIO_RESIDENCIA'].str.extract('(\\d\\d)')\n",
    "filter = filter.replace({'PROVINCIA_RESIDENCIA': regional_codes})"
   ]
  },
  {
   "cell_type": "markdown",
   "metadata": {},
   "source": [
    "## Country of birth"
   ]
  },
  {
   "cell_type": "code",
   "execution_count": 6,
   "metadata": {
    "collapsed": false
   },
   "outputs": [],
   "source": [
    "country_codes = {1: 'SPAIN', 2: None}\n",
    "filter = filter.replace({'PAIS_NACIMIENTO': country_codes})\n",
    "filter.loc[\n",
    "    filter['PAIS_NACIMIENTO'] != 'SPAIN', 'PAIS_NACIMIENTO'] = filter.loc[\n",
    "    filter['PAIS_NACIMIENTO'] != 'SPAIN', 'PAIS_NACIMIENTO_OTRO']"
   ]
  },
  {
   "cell_type": "markdown",
   "metadata": {},
   "source": [
    "## Town of birth"
   ]
  },
  {
   "cell_type": "code",
   "execution_count": 7,
   "metadata": {
    "collapsed": false
   },
   "outputs": [],
   "source": [
    "filter.loc[\n",
    "    filter['MUNICIPIO_NACIMIENTO'].isnull(), 'MUNICIPIO_NACIMIENTO'] = filter.loc[\n",
    "    filter['MUNICIPIO_NACIMIENTO'].isnull(), 'MUNICIPIO_NACIMIENTO_OTRO']\n",
    "\n",
    "filter['MUNICIPIO_NACIMIENTO'] = filter['MUNICIPIO_NACIMIENTO'].str.upper()"
   ]
  },
  {
   "cell_type": "markdown",
   "metadata": {},
   "source": [
    "## Curate foreign country names"
   ]
  },
  {
   "cell_type": "code",
   "execution_count": 8,
   "metadata": {
    "collapsed": false
   },
   "outputs": [],
   "source": [
    "a_la_llista = True & ~filter.PAIS_NACIMIENTO_OTRO.isin(countries.Nom)\n",
    "\n",
    "filter['LUGAR_NACIMIENTO.OTRO.PAIS'] = filter['PAIS_NACIMIENTO_OTRO']\n",
    "filter['LUGAR_NACIMIENTO'] = filter['PAIS_NACIMIENTO']\n",
    "output = filter.loc[filter['PAIS_NACIMIENTO_OTRO'].notnull() & a_la_llista,\n",
    "           ['entity_id', 'LUGAR_NACIMIENTO', 'LUGAR_NACIMIENTO.OTRO.PAIS']]\n",
    "\n",
    "output.to_csv('../output/locations/other_countries.csv', index=False)"
   ]
  },
  {
   "cell_type": "markdown",
   "metadata": {},
   "source": [
    "## Write curated data"
   ]
  },
  {
   "cell_type": "code",
   "execution_count": 9,
   "metadata": {
    "collapsed": false
   },
   "outputs": [],
   "source": [
    "columns = [\n",
    "    'entity_id',\n",
    "    'PAIS_NACIMIENTO',\n",
    "    'MUNICIPIO_NACIMIENTO',\n",
    "    'PROVINCIA_RESIDENCIA'\n",
    "]\n",
    "data = filter[columns]\n",
    "data.to_csv('../output/locations/data.csv', index=False)"
   ]
  }
 ],
 "metadata": {
  "kernelspec": {
   "display_name": "Python 3",
   "language": "python",
   "name": "python3"
  },
  "language_info": {
   "codemirror_mode": {
    "name": "ipython",
    "version": 3
   },
   "file_extension": ".py",
   "mimetype": "text/x-python",
   "name": "python",
   "nbconvert_exporter": "python",
   "pygments_lexer": "ipython3",
   "version": "3.5.0"
  }
 },
 "nbformat": 4,
 "nbformat_minor": 0
}
