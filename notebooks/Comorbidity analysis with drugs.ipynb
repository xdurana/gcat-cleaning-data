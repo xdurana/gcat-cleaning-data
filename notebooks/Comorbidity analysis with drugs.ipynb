{
 "cells": [
  {
   "cell_type": "markdown",
   "metadata": {},
   "source": [
    "# Comorbidity analysis with drugs"
   ]
  },
  {
   "cell_type": "code",
   "execution_count": 1,
   "metadata": {
    "collapsed": true
   },
   "outputs": [],
   "source": [
    "import difflib\n",
    "import re\n",
    "import numpy as np\n",
    "import pandas as pd\n",
    "import matplotlib as mpl\n",
    "import matplotlib.pyplot as plt\n",
    "from matplotlib.pylab import *\n",
    "import seaborn as sns\n",
    "\n",
    "%matplotlib inline"
   ]
  },
  {
   "cell_type": "markdown",
   "metadata": {},
   "source": [
    "## Medication database"
   ]
  },
  {
   "cell_type": "code",
   "execution_count": 64,
   "metadata": {
    "collapsed": false
   },
   "outputs": [],
   "source": [
    "ds = pd.read_csv('../output/medications/data.csv', low_memory=False)\n",
    "ds['ATC_CODE_3'] = ds['ATC_CODE'].str[0:3]\n",
    "ds_drop = ds.drop('entity_id', 1).dropna()"
   ]
  },
  {
   "cell_type": "code",
   "execution_count": 65,
   "metadata": {
    "collapsed": false
   },
   "outputs": [],
   "source": [
    "ds = ds.drop('CONDITION', 1)\n",
    "ds = ds.drop('DRUG_NAME', 1)\n",
    "ds = ds.drop('ATC_CODE', 1)"
   ]
  },
  {
   "cell_type": "code",
   "execution_count": 66,
   "metadata": {
    "collapsed": false
   },
   "outputs": [
    {
     "name": "stderr",
     "output_type": "stream",
     "text": [
      "/software/debian-8/general/virtenvs/jupyter/lib/python3.5/site-packages/ipykernel/__main__.py:2: SettingWithCopyWarning: \n",
      "A value is trying to be set on a copy of a slice from a DataFrame.\n",
      "Try using .loc[row_indexer,col_indexer] = value instead\n",
      "\n",
      "See the caveats in the documentation: http://pandas.pydata.org/pandas-docs/stable/indexing.html#indexing-view-versus-copy\n",
      "  from ipykernel import kernelapp as app\n"
     ]
    }
   ],
   "source": [
    "ds_drop = ds.drop_duplicates()\n",
    "ds_drop['COUNT'] = 1"
   ]
  },
  {
   "cell_type": "code",
   "execution_count": 67,
   "metadata": {
    "collapsed": false
   },
   "outputs": [
    {
     "data": {
      "text/plain": [
       "array([[ 0.,  0.,  0., ...,  0.,  0.,  0.],\n",
       "       [ 0.,  0.,  0., ...,  0.,  0.,  0.],\n",
       "       [ 0.,  0.,  0., ...,  0.,  0.,  0.],\n",
       "       ..., \n",
       "       [ 0.,  0.,  0., ...,  0.,  0.,  0.],\n",
       "       [ 0.,  0.,  0., ...,  0.,  0.,  0.],\n",
       "       [ 0.,  0.,  0., ...,  0.,  0.,  0.]])"
      ]
     },
     "execution_count": 67,
     "metadata": {},
     "output_type": "execute_result"
    }
   ],
   "source": [
    "ds_drop = pd.pivot_table(ds_drop, index='entity_id', columns='ATC_CODE_3', values='COUNT', aggfunc=np.sum)\n",
    "ds_drop = ds_drop.fillna(0)\n",
    "ds_drop.as_matrix()"
   ]
  },
  {
   "cell_type": "markdown",
   "metadata": {},
   "source": [
    "## Calculate comorbidity frequency"
   ]
  },
  {
   "cell_type": "code",
   "execution_count": 68,
   "metadata": {
    "collapsed": false
   },
   "outputs": [
    {
     "data": {
      "text/plain": [
       "array([[494,   9,   3, ...,   1,   0,   1],\n",
       "       [  9,  19,   0, ...,   0,   0,   0],\n",
       "       [  3,   0,   6, ...,   0,   0,   0],\n",
       "       ..., \n",
       "       [  1,   0,   0, ...,   2,   0,   0],\n",
       "       [  0,   0,   0, ...,   0,   2,   0],\n",
       "       [  1,   0,   0, ...,   0,   0,   1]])"
      ]
     },
     "execution_count": 68,
     "metadata": {},
     "output_type": "execute_result"
    }
   ],
   "source": [
    "ds_asint = ds_drop.astype(int)\n",
    "coocurrences = ds_asint.T.dot(ds_asint).as_matrix()\n",
    "coocurrences"
   ]
  },
  {
   "cell_type": "markdown",
   "metadata": {},
   "source": [
    "## Relative Risk\n",
    "\n",
    "The Relative Risk (RR) of observing a pair of diseases $i$ and $j$ affecting the same patient is given by\n",
    "\n",
    "$$RR_ij = \\frac{C_ijN}{P_iP_j}$$ where $C_ij$ is the number of patients affected by both diseases, $N$ is the total number of patients in the population and $P_i$ and $P_j$ are the prevalences of diseases $i$ and $j$."
   ]
  },
  {
   "cell_type": "code",
   "execution_count": 69,
   "metadata": {
    "collapsed": false
   },
   "outputs": [],
   "source": [
    "from __future__ import division\n",
    "\n",
    "def RR(c, N, i, j):\n",
    "    if (c[i,i]*c[j,j] == 0):\n",
    "        return(0)\n",
    "    if (i == j):\n",
    "        return 0\n",
    "    return (c[i,j]*N)/(c[i,i]*c[j,j])"
   ]
  },
  {
   "cell_type": "code",
   "execution_count": 115,
   "metadata": {
    "collapsed": false
   },
   "outputs": [],
   "source": [
    "N = ds_asint.shape[0]\n",
    "risk = coocurrences.copy().astype(float)\n",
    "\n",
    "for i in range(0, coocurrences.shape[0], 1):\n",
    "    for j in range(0, coocurrences.shape[1], 1):\n",
    "        risk[i,j] = RR(coocurrences, N, i, j)\n",
    "        \n",
    "risk = pd.DataFrame(risk, index=ds_drop.columns, columns=ds_drop.columns)"
   ]
  },
  {
   "cell_type": "code",
   "execution_count": 123,
   "metadata": {
    "collapsed": false
   },
   "outputs": [],
   "source": [
    "aux = risk\n",
    "aux['sum'] = aux.sum()\n",
    "aux = aux[aux['sum'] > 100]\n",
    "aux = aux.drop('sum', 1)\n",
    "aux = aux[aux.index.values]\n",
    "aux.to_csv('../output/relative-risk/data.csv')"
   ]
  },
  {
   "cell_type": "markdown",
   "metadata": {},
   "source": [
    "## Plot disease relative risk matrix"
   ]
  },
  {
   "cell_type": "code",
   "execution_count": 122,
   "metadata": {
    "collapsed": false
   },
   "outputs": [
    {
     "data": {
      "text/plain": [
       "<module 'matplotlib.pyplot' from '/software/debian-8/general/virtenvs/jupyter/lib/python3.5/site-packages/matplotlib/pyplot.py'>"
      ]
     },
     "execution_count": 122,
     "metadata": {},
     "output_type": "execute_result"
    },
    {
     "data": {
      "image/png": "[encoded data removed]",
      "text/plain": [
       "<matplotlib.figure.Figure at 0x7f1bdd302da0>"
      ]
     },
     "metadata": {},
     "output_type": "display_data"
    }
   ],
   "source": [
    "df = aux\n",
    "cg = sns.clustermap(df, linewidths=.5, figsize=(13, 13))\n",
    "plt.setp(cg.ax_heatmap.yaxis.get_majorticklabels(), rotation=0)\n",
    "plt"
   ]
  }
 ],
 "metadata": {
  "kernelspec": {
   "display_name": "Python 3",
   "language": "python",
   "name": "python3"
  },
  "language_info": {
   "codemirror_mode": {
    "name": "ipython",
    "version": 3
   },
   "file_extension": ".py",
   "mimetype": "text/x-python",
   "name": "python",
   "nbconvert_exporter": "python",
   "pygments_lexer": "ipython3",
   "version": "3.5.0"
  }
 },
 "nbformat": 4,
 "nbformat_minor": 0
}
