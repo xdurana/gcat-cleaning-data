{
 "cells": [
  {
   "cell_type": "markdown",
   "metadata": {},
   "source": [
    "![GCAT | Genomes for Life](images/logo-GCAT.png)"
   ]
  },
  {
   "cell_type": "markdown",
   "metadata": {},
   "source": [
    "# Merge clean datasets"
   ]
  },
  {
   "cell_type": "code",
   "execution_count": 1,
   "metadata": {
    "collapsed": true
   },
   "outputs": [],
   "source": [
    "import numpy as np\n",
    "import pandas as pd\n",
    "import matplotlib as mpl\n",
    "import matplotlib.pyplot as plt\n",
    "from matplotlib.pylab import *\n",
    "import os\n",
    "%matplotlib inline"
   ]
  },
  {
   "cell_type": "markdown",
   "metadata": {},
   "source": [
    "## Load tables"
   ]
  },
  {
   "cell_type": "code",
   "execution_count": 3,
   "metadata": {
    "collapsed": false
   },
   "outputs": [
    {
     "name": "stderr",
     "output_type": "stream",
     "text": [
      "/software/debian-8/general/virtenvs/jupyter/lib/python3.5/site-packages/IPython/core/interactiveshell.py:2902: DtypeWarning: Columns (7,9,11,51,68,73,74,75,76,77,78,212,224,254,256,317,318,415,416,418,419,424,425,430,436,443,450,451,453,454,459,465,485,488,489,521,522,527,528,533,534,542,547,548,553,554,561,562,567,568,573,574,581,582,587,588,601,602,607,608,613,621,622,627,633,641,642,647,648,653,654,661,667,681,682,687,701,722,728,734,741,742,747,748,753,754,761,762,767,768,773,781,782,787,788,793,801,802,807,808,813,821,822,827,828,833,834,841,847,853,861,867,868,873,881,882,887,888,893,894,901,902,907,908,913,914,921,922,927,928,933,934,942,947,948,953,961,962,967,973,1018,1022,1023,1028,1029,1034,1043,1044,1049,1050,1055,1056,1064,1065,1070,1071,1076,1077,1081,1085,1086,1091,1097,1104,1110,1114,1115,1116,1120,1121,1122,1126,1127,1128,1144,1149,1154,1211,1212,1213,1214,1215,1216,1326,1332,1333,1339,1340,1346,1347,1353,1359,1360,1366,1367,1373,1374,1380,1381,1387,1388,1396,1397,1403,1404,1410,1411,1418,1438,1439,1440,1441,1442,1443,1444,1445,1446,1447,1448,1449,1450,1451,1452,1453,1454,1455,1456,1457,1458,1459,1460,1461,1462,1463,1464,1465,1466,1474,1475,1479,1480,1531,1534,1535,1536,1537,1538,1539,1540,1541,1542,1543,1544,1545,1546,1547,1548,1549,1550,1551,1552,1553,1554,1555,1556,1560,1564,1565,1609,1612,1654,1658,1659,1663,1664,1745,1746,1750,1751,1755,1756,1837,1838,1842,1847,1929,1930,1934,1935,1939,2021,2022,2026,2027,2032,2113,2114,2118,2123,2175,2176,2177,2178,2179,2180,2181,2182,2183,2184,2185,2186,2187,2188,2189,2190,2191,2192,2193,2194,2195,2196,2197,2198,2199,2200,2201,2202,2205,2206,2210,2267,2268,2269,2270,2271,2272,2273,2274,2275,2276,2277,2278,2279,2280,2281,2282,2283,2284,2285,2286,2287,2288,2289,2290,2291,2292,2293,2294,2297,2298,2302,2303,2308,2359,2360,2361,2362,2363,2364,2365,2366,2367,2368,2369,2370,2371,2372,2373,2374,2375,2376,2377,2378,2379,2380,2381,2382,2383,2384,2385,2386,2389,2394,2451,2452,2453,2454,2455,2456,2457,2458,2459,2460,2461,2462,2463,2464,2465,2466,2467,2468,2469,2470,2471,2472,2473,2474,2475,2476,2477,2478,2481,2573,2574,2575,2578,2579,2580,2584,2588,2608,2612,2622,2628,2665,2666,2667,2670,2672,2700,2702,2714,2720,2757,2758,2759,2796,2806,2819,2820,2821,2822,2823,2824,2825,2826,2827,2828,2829,2830,2831,2832,2833,2834,2835,2836,2837,2838,2839,2840,2841,2842,2843,2844,2845,2846,2849,2851,2911,2912,2913,2914,2915,2916,2917,2918,2919,2920,2921,2922,2923,2924,2925,2926,2927,2928,2929,2930,2931,2932,2933,2934,2935,2936,2937,2938,3003,3004,3005,3006,3007,3008,3009,3010,3011,3012,3013,3014,3015,3016,3017,3018,3019,3020,3021,3022,3023,3024,3025,3026,3027,3028,3029,3030,3095,3096,3097,3098,3099,3100,3101,3102,3103,3104,3105,3106,3107,3108,3109,3110,3111,3112,3113,3114,3115,3116,3117,3118,3119,3120,3121,3122,3187,3188,3189,3190,3191,3192,3193,3194,3195,3196,3197,3198,3199,3200,3201,3202,3203,3204,3205,3206,3207,3208,3209,3210,3211,3212,3213,3214,3279,3280,3281,3282,3283,3284,3285,3286,3287,3288,3289,3290,3291,3292,3293,3294,3295,3296,3297,3298,3299,3300,3301,3302,3303,3304,3305,3306,3371,3372,3373,3374,3375,3376,3377,3378,3379,3380,3381,3382,3383,3384,3385,3386,3387,3388,3389,3390,3391,3392,3393,3394,3395,3396,3397,3398,3464,3466,3467,3470,3471,3474,3476,3478,3482) have mixed types. Specify dtype option on import or set low_memory=False.\n",
      "  interactivity=interactivity, compiler=compiler, result=result)\n"
     ]
    }
   ],
   "source": [
    "participants = pd.read_csv('../output/participants/data.csv')\n",
    "genotyped = pd.read_csv('../output/genotyped/data.csv')\n",
    "age = pd.read_csv('../output/age/data.csv')\n",
    "bmi = pd.read_csv('../output/bmi/data.csv')\n",
    "whr = pd.read_csv('../output/whr/data.csv')\n",
    "bp = pd.read_csv('../output/bp/data.csv')\n",
    "locations = pd.read_csv('../output/locations/data.csv')\n",
    "gender = pd.read_csv('../output/gender/data.csv')\n",
    "conditions = pd.read_csv('../output/conditions/data.csv')\n",
    "seleccio = pd.read_csv('/home/labs/dnalab/share/lims/R/gcat-cohort/output/export/SELECCIO/data.csv')"
   ]
  },
  {
   "cell_type": "markdown",
   "metadata": {},
   "source": [
    "## Merge datasets"
   ]
  },
  {
   "cell_type": "code",
   "execution_count": 7,
   "metadata": {
    "collapsed": false
   },
   "outputs": [],
   "source": [
    "genotyped.columns = ['entity_id', 'sample_name', 'plate', 'sampleType']\n",
    "\n",
    "all = participants\n",
    "all = pd.merge(all, genotyped, on=['entity_id'], how='left')\n",
    "all = pd.merge(all, age, on=['entity_id'], how='left')\n",
    "all = pd.merge(all, bmi, on=['entity_id'], how='left')\n",
    "all = pd.merge(all, whr, on=['entity_id'], how='left')\n",
    "all = pd.merge(all, bp, on=['entity_id'], how='left')\n",
    "all = pd.merge(all, locations, on=['entity_id'], how='left')\n",
    "all = pd.merge(all, gender, on=['entity_id'], how='left')\n",
    "all = pd.merge(all, conditions, on=['entity_id'], how='left')\n",
    "\n",
    "columns = list(all.columns)\n",
    "columns.remove('entity_id')\n",
    "\n",
    "seleccio = seleccio[seleccio.columns[~seleccio.columns.isin(columns)]]\n",
    "\n",
    "all = pd.merge(all, seleccio, on=['entity_id'], how='left')"
   ]
  },
  {
   "cell_type": "markdown",
   "metadata": {},
   "source": [
    "## Write clean dataset"
   ]
  },
  {
   "cell_type": "code",
   "execution_count": 8,
   "metadata": {
    "collapsed": true
   },
   "outputs": [],
   "source": [
    "mlds = all.copy()\n",
    "mlds = mlds[mlds['Admin.Interview.status'] == 'COMPLETED']\n",
    "mlds = mlds.drop(['Admin.Interview.status', 'sample_name', 'plate'], 1)\n",
    "\n",
    "mlds.to_csv('../output/data.csv', index=False)"
   ]
  },
  {
   "cell_type": "markdown",
   "metadata": {},
   "source": [
    "## Write whole dataset"
   ]
  },
  {
   "cell_type": "code",
   "execution_count": 9,
   "metadata": {
    "collapsed": false
   },
   "outputs": [],
   "source": [
    "all.to_csv('../output/genotyped.csv', index=False)"
   ]
  }
 ],
 "metadata": {
  "kernelspec": {
   "display_name": "Python 3",
   "language": "python",
   "name": "python3"
  },
  "language_info": {
   "codemirror_mode": {
    "name": "ipython",
    "version": 3
   },
   "file_extension": ".py",
   "mimetype": "text/x-python",
   "name": "python",
   "nbconvert_exporter": "python",
   "pygments_lexer": "ipython3",
   "version": "3.5.0"
  }
 },
 "nbformat": 4,
 "nbformat_minor": 0
}
