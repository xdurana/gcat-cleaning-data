{
 "cells": [
  {
   "cell_type": "markdown",
   "metadata": {},
   "source": [
    "![GCAT | Genomes for Life](images/logo-GCAT.png)"
   ]
  },
  {
   "cell_type": "markdown",
   "metadata": {},
   "source": [
    "# Merge clean datasets"
   ]
  },
  {
   "cell_type": "code",
   "execution_count": 1,
   "metadata": {
    "collapsed": true
   },
   "outputs": [],
   "source": [
    "import numpy as np\n",
    "import pandas as pd\n",
    "import matplotlib as mpl\n",
    "import matplotlib.pyplot as plt\n",
    "from matplotlib.pylab import *\n",
    "import os\n",
    "%matplotlib inline"
   ]
  },
  {
   "cell_type": "markdown",
   "metadata": {},
   "source": [
    "## Load tables"
   ]
  },
  {
   "cell_type": "code",
   "execution_count": 2,
   "metadata": {
    "collapsed": false
   },
   "outputs": [],
   "source": [
    "participants = pd.read_csv('../output/participants/data.csv')\n",
    "genotyped = pd.read_csv('../output/genotyped/data.csv')\n",
    "age = pd.read_csv('../output/age/data.csv')\n",
    "bmi = pd.read_csv('../output/bmi/data.csv')\n",
    "whr = pd.read_csv('../output/whr/data.csv')\n",
    "bp = pd.read_csv('../output/bp/data.csv')\n",
    "locations = pd.read_csv('../output/locations/data.csv')\n",
    "gender = pd.read_csv('../output/gender/data.csv')\n",
    "conditions = pd.read_csv('../output/conditions/wide.csv')\n",
    "seleccio = pd.read_csv('/home/labs/dnalab/share/lims/R/gcat-cohort/output/export/SELECCIO/data.csv')"
   ]
  },
  {
   "cell_type": "markdown",
   "metadata": {},
   "source": [
    "## Merge datasets"
   ]
  },
  {
   "cell_type": "code",
   "execution_count": 3,
   "metadata": {
    "collapsed": false
   },
   "outputs": [],
   "source": [
    "genotyped.columns = ['entity_id', 'sample_name', 'plate', 'sampleType']\n",
    "\n",
    "all = participants\n",
    "all = pd.merge(all, genotyped, on=['entity_id'], how='left')\n",
    "all = pd.merge(all, age, on=['entity_id'], how='left')\n",
    "all = pd.merge(all, bmi, on=['entity_id'], how='left')\n",
    "all = pd.merge(all, whr, on=['entity_id'], how='left')\n",
    "all = pd.merge(all, bp, on=['entity_id'], how='left')\n",
    "all = pd.merge(all, locations, on=['entity_id'], how='left')\n",
    "all = pd.merge(all, gender, on=['entity_id'], how='left')\n",
    "all = pd.merge(all, conditions, on=['entity_id'], how='left')\n",
    "\n",
    "columns = list(all.columns)\n",
    "columns.remove('entity_id')\n",
    "\n",
    "seleccio = seleccio[seleccio.columns[~seleccio.columns.isin(columns)]]\n",
    "seleccio = seleccio[seleccio.columns[~seleccio.columns.isin(\n",
    "            list(seleccio.columns[seleccio.columns.str.contains('^ENFERMEDADES_')]))]]"
   ]
  },
  {
   "cell_type": "markdown",
   "metadata": {},
   "source": [
    "## Write whole dataset"
   ]
  },
  {
   "cell_type": "code",
   "execution_count": null,
   "metadata": {
    "collapsed": true
   },
   "outputs": [],
   "source": [
    "all = pd.merge(all, seleccio, on=['entity_id'], how='left')\n",
    "all.to_csv('../output/genotyped.csv', index=False)"
   ]
  },
  {
   "cell_type": "markdown",
   "metadata": {},
   "source": [
    "## Write clean dataset"
   ]
  },
  {
   "cell_type": "code",
   "execution_count": 4,
   "metadata": {
    "collapsed": true
   },
   "outputs": [],
   "source": [
    "mlds = all.copy()\n",
    "mlds = mlds[mlds['Admin.Interview.status'] == 'COMPLETED']\n",
    "mlds = mlds.drop(['Admin.Interview.status', 'sample_name', 'plate'], 1)\n",
    "\n",
    "mlds.to_csv('../output/data.csv', index=False)"
   ]
  }
 ],
 "metadata": {
  "kernelspec": {
   "display_name": "Python 3",
   "language": "python",
   "name": "python3"
  },
  "language_info": {
   "codemirror_mode": {
    "name": "ipython",
    "version": 3
   },
   "file_extension": ".py",
   "mimetype": "text/x-python",
   "name": "python",
   "nbconvert_exporter": "python",
   "pygments_lexer": "ipython3",
   "version": "3.5.0"
  }
 },
 "nbformat": 4,
 "nbformat_minor": 0
}
